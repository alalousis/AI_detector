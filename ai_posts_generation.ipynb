{
 "cells": [
  {
   "metadata": {
    "ExecuteTime": {
     "end_time": "2025-09-18T22:25:23.896905Z",
     "start_time": "2025-09-18T16:32:51.767223Z"
    }
   },
   "cell_type": "code",
   "source": [
    "import time\n",
    "import ollama\n",
    "import pandas as pd\n",
    "from datetime import timedelta\n",
    "\n",
    "# Define model and initialize chat history\n",
    "desired_model = \"llama3.2\"\n",
    "\n",
    "# Interactive loop\n",
    "ai_tweets_df = pd.DataFrame(columns=('id', 'text'))\n",
    "\n",
    "POSTS_NUMBER = 10000\n",
    "\n",
    "MAX_TWEET_LENGTH = 280\n",
    "\n",
    "prompt_input = f\"Write 1 political twitter post with maximum of {MAX_TWEET_LENGTH} characters\"\n",
    "\n",
    "start_time = time.time()\n",
    "for i in range(1, POSTS_NUMBER+1):\n",
    "\n",
    "    # Generate response\n",
    "    response = ollama.generate(model=desired_model, prompt=prompt_input)\n",
    "\n",
    "    # Append response to tweets dataset\n",
    "    tweet = response[\"response\"]\n",
    "    ai_tweets_df.loc[i] = [i, tweet]\n",
    "\n",
    "end_time = time.time()\n",
    "duration = str(timedelta(seconds=end_time - start_time))\n",
    "\n",
    "print(f\"Duration:{duration}\")\n",
    "\n",
    "ai_tweets_df.to_csv(f\"datasets/ai_dataset_{POSTS_NUMBER}.csv\", index=False, encoding='utf-8')"
   ],
   "id": "befe4cd800db0a9b",
   "outputs": [
    {
     "name": "stdout",
     "output_type": "stream",
     "text": [
      "Duration:5:52:31.053496\n"
     ]
    }
   ],
   "execution_count": 1
  },
  {
   "metadata": {
    "ExecuteTime": {
     "end_time": "2025-04-13T18:19:20.309167Z",
     "start_time": "2025-04-13T18:19:20.305675Z"
    }
   },
   "cell_type": "code",
   "source": "",
   "id": "48a56f46d3403e8d",
   "outputs": [],
   "execution_count": null
  }
 ],
 "metadata": {
  "kernelspec": {
   "display_name": "Python 3",
   "language": "python",
   "name": "python3"
  },
  "language_info": {
   "codemirror_mode": {
    "name": "ipython",
    "version": 2
   },
   "file_extension": ".py",
   "mimetype": "text/x-python",
   "name": "python",
   "nbconvert_exporter": "python",
   "pygments_lexer": "ipython2",
   "version": "2.7.6"
  }
 },
 "nbformat": 4,
 "nbformat_minor": 5
}
