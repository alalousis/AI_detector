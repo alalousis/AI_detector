{
 "cells": [
  {
   "metadata": {},
   "cell_type": "markdown",
   "source": "Download dataset",
   "id": "f854c2d14d55f899"
  },
  {
   "cell_type": "code",
   "id": "initial_id",
   "metadata": {
    "collapsed": true,
    "ExecuteTime": {
     "end_time": "2025-09-15T16:47:42.345234Z",
     "start_time": "2025-09-15T16:47:38.086659Z"
    }
   },
   "source": [
    "import kagglehub\n",
    "import os\n",
    "import pandas as pd\n",
    "\n",
    "kaggle_dataset_path = \"kaushiksuresh147/political-tweets\"\n",
    "real_posts_path = \"/Users/alalousis/PycharmProjects/AI_detector/datasets\"\n",
    "\n",
    "# Download latest version\n",
    "path = kagglehub.dataset_download(kaggle_dataset_path)\n",
    "os.rename(path, real_posts_path)"
   ],
   "outputs": [
    {
     "name": "stderr",
     "output_type": "stream",
     "text": [
      "/Users/alalousis/PycharmProjects/AI_detector/.venv/lib/python3.12/site-packages/tqdm/auto.py:21: TqdmWarning: IProgress not found. Please update jupyter and ipywidgets. See https://ipywidgets.readthedocs.io/en/stable/user_install.html\n",
      "  from .autonotebook import tqdm as notebook_tqdm\n"
     ]
    },
    {
     "name": "stdout",
     "output_type": "stream",
     "text": [
      "Warning: Looks like you're using an outdated `kagglehub` version (installed: 0.3.10), please consider upgrading to the latest version (0.3.13).\n",
      "Downloading from https://www.kaggle.com/api/v1/datasets/download/kaushiksuresh147/political-tweets?dataset_version_number=22...\n"
     ]
    },
    {
     "name": "stderr",
     "output_type": "stream",
     "text": [
      "100%|██████████| 37.5M/37.5M [00:02<00:00, 16.8MB/s]"
     ]
    },
    {
     "name": "stdout",
     "output_type": "stream",
     "text": [
      "Extracting files...\n"
     ]
    },
    {
     "name": "stderr",
     "output_type": "stream",
     "text": [
      "\n"
     ]
    },
    {
     "ename": "OSError",
     "evalue": "[Errno 66] Directory not empty: '/Users/alalousis/.cache/kagglehub/datasets/kaushiksuresh147/political-tweets/versions/22' -> '/Users/alalousis/PycharmProjects/AI_detector/datasets'",
     "output_type": "error",
     "traceback": [
      "\u001B[31m---------------------------------------------------------------------------\u001B[39m",
      "\u001B[31mOSError\u001B[39m                                   Traceback (most recent call last)",
      "\u001B[36mCell\u001B[39m\u001B[36m \u001B[39m\u001B[32mIn[1]\u001B[39m\u001B[32m, line 10\u001B[39m\n\u001B[32m      8\u001B[39m \u001B[38;5;66;03m# Download latest version\u001B[39;00m\n\u001B[32m      9\u001B[39m path = kagglehub.dataset_download(kaggle_dataset_path)\n\u001B[32m---> \u001B[39m\u001B[32m10\u001B[39m \u001B[43mos\u001B[49m\u001B[43m.\u001B[49m\u001B[43mrename\u001B[49m\u001B[43m(\u001B[49m\u001B[43mpath\u001B[49m\u001B[43m,\u001B[49m\u001B[43m \u001B[49m\u001B[43mreal_posts_path\u001B[49m\u001B[43m)\u001B[49m\n",
      "\u001B[31mOSError\u001B[39m: [Errno 66] Directory not empty: '/Users/alalousis/.cache/kagglehub/datasets/kaushiksuresh147/political-tweets/versions/22' -> '/Users/alalousis/PycharmProjects/AI_detector/datasets'"
     ]
    }
   ],
   "execution_count": 1
  },
  {
   "metadata": {
    "ExecuteTime": {
     "end_time": "2025-09-15T16:48:02.473941Z",
     "start_time": "2025-09-15T16:48:02.471511Z"
    }
   },
   "cell_type": "code",
   "source": [
    "print(\"Path to dataset files:\", path)\n",
    "print(\"Project Path to dataset files:\", real_posts_path)"
   ],
   "id": "52ef4d263622bca3",
   "outputs": [
    {
     "name": "stdout",
     "output_type": "stream",
     "text": [
      "Path to dataset files: /Users/alalousis/.cache/kagglehub/datasets/kaushiksuresh147/political-tweets/versions/22\n",
      "Project Path to dataset files: /Users/alalousis/PycharmProjects/AI_detector/datasets\n"
     ]
    }
   ],
   "execution_count": 2
  },
  {
   "metadata": {},
   "cell_type": "markdown",
   "source": "Keep ID, TEXT columns",
   "id": "470dab3e36c38a4a"
  },
  {
   "metadata": {
    "ExecuteTime": {
     "end_time": "2025-09-15T16:48:08.751773Z",
     "start_time": "2025-09-15T16:48:08.734075Z"
    }
   },
   "cell_type": "code",
   "source": [
    "downloaded_filename = \"/Political_tweets.csv\"\n",
    "real_dataset_filename = \"/real_dataset.csv\"\n",
    "datasets_path = \"datasets\"\n",
    "\n",
    "os.rename(datasets_path + downloaded_filename, datasets_path + real_dataset_filename)\n",
    "\n",
    "cols = [9]\n",
    "real_tweets_df = pd.read_csv(datasets_path + real_dataset_filename, encoding=\"UTF-8\", header=0, usecols=cols)\n",
    "\n",
    "real_tweets_df.info()\n",
    "\n",
    "real_tweets_df.head()"
   ],
   "id": "81c36a3d500be5a0",
   "outputs": [
    {
     "ename": "FileNotFoundError",
     "evalue": "[Errno 2] No such file or directory: 'datasets/Political_tweets.csv' -> 'datasets/real_dataset.csv'",
     "output_type": "error",
     "traceback": [
      "\u001B[31m---------------------------------------------------------------------------\u001B[39m",
      "\u001B[31mFileNotFoundError\u001B[39m                         Traceback (most recent call last)",
      "\u001B[36mCell\u001B[39m\u001B[36m \u001B[39m\u001B[32mIn[3]\u001B[39m\u001B[32m, line 5\u001B[39m\n\u001B[32m      2\u001B[39m real_dataset_filename = \u001B[33m\"\u001B[39m\u001B[33m/real_dataset.csv\u001B[39m\u001B[33m\"\u001B[39m\n\u001B[32m      3\u001B[39m datasets_path = \u001B[33m\"\u001B[39m\u001B[33mdatasets\u001B[39m\u001B[33m\"\u001B[39m\n\u001B[32m----> \u001B[39m\u001B[32m5\u001B[39m \u001B[43mos\u001B[49m\u001B[43m.\u001B[49m\u001B[43mrename\u001B[49m\u001B[43m(\u001B[49m\u001B[43mdatasets_path\u001B[49m\u001B[43m \u001B[49m\u001B[43m+\u001B[49m\u001B[43m \u001B[49m\u001B[43mdownloaded_filename\u001B[49m\u001B[43m,\u001B[49m\u001B[43m \u001B[49m\u001B[43mdatasets_path\u001B[49m\u001B[43m \u001B[49m\u001B[43m+\u001B[49m\u001B[43m \u001B[49m\u001B[43mreal_dataset_filename\u001B[49m\u001B[43m)\u001B[49m\n\u001B[32m      7\u001B[39m cols = [\u001B[32m9\u001B[39m]\n\u001B[32m      8\u001B[39m real_tweets_df = pd.read_csv(datasets_path + real_dataset_filename, encoding=\u001B[33m\"\u001B[39m\u001B[33mUTF-8\u001B[39m\u001B[33m\"\u001B[39m, header=\u001B[32m0\u001B[39m, usecols=cols)\n",
      "\u001B[31mFileNotFoundError\u001B[39m: [Errno 2] No such file or directory: 'datasets/Political_tweets.csv' -> 'datasets/real_dataset.csv'"
     ]
    }
   ],
   "execution_count": 3
  },
  {
   "metadata": {
    "ExecuteTime": {
     "end_time": "2025-09-15T16:47:42.379392Z",
     "start_time": "2025-04-13T11:58:55.237957Z"
    }
   },
   "cell_type": "code",
   "source": "",
   "id": "1f30bc24e82a6240",
   "outputs": [],
   "execution_count": null
  }
 ],
 "metadata": {
  "kernelspec": {
   "display_name": "Python 3",
   "language": "python",
   "name": "python3"
  },
  "language_info": {
   "codemirror_mode": {
    "name": "ipython",
    "version": 2
   },
   "file_extension": ".py",
   "mimetype": "text/x-python",
   "name": "python",
   "nbconvert_exporter": "python",
   "pygments_lexer": "ipython2",
   "version": "2.7.6"
  }
 },
 "nbformat": 4,
 "nbformat_minor": 5
}
